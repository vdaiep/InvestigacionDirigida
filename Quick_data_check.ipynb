{
 "cells": [
  {
   "cell_type": "code",
   "execution_count": 1,
   "metadata": {},
   "outputs": [],
   "source": [
    "import matplotlib.pyplot as plt\n",
    "import matplotlib.cm as cm\n",
    "import numpy as np\n",
    "from scipy.optimize import curve_fit\n",
    "import h5py\n",
    "import seaborn; seaborn.set()"
   ]
  },
  {
   "cell_type": "code",
   "execution_count": 2,
   "metadata": {},
   "outputs": [],
   "source": [
    "r = [1000.0]\n",
    "numbers = ['80']\n",
    "units = {\"gas_mass\" : r\" [$M_{\\odot}$]\", \"dense_gas_mass\" : r\" [$M_{\\odot}$]\", \"mach_number_3d\" : \"\", \n",
    "         \"virial_parameter_3d\" : \"\", \"galactic_radius\" : r\" [pc]\", \"velocity_dispersion_3d\" : r\" [km/s]\", \n",
    "         \"mean_density\" : r\" [$M_{\\odot}$/pc$^{3}$]\", \"sigma_gas\" : r\" [$M_{\\odot}$/pc$^{2}$]\", \n",
    "         \"sigma_SFR\" : r\" [$M_{\\odot}$/yr$\\cdot$kpc$^{2}$]\", \"angular_velocity\" : r\" [1/Myr]\", \n",
    "         \"stars_mass\" : r\" [$M_{\\odot}$]\",\n",
    "         \"SFR_efficiency\" : \"\", \"mach_number_z\" : \"\", \"virial_parameter_z\" : \"\", \"velocity_dispersion_z\" : r\" [km/s]\"}\n",
    "names = {\"gas_mass\" : r\"$M_{gas}$\", \"dense_gas_mass\" : r\"$M_{dense}$\", \"mach_number_3d\" : \"Mach number 3D\",\n",
    "         \"virial_parameter_3d\" : r\"$\\alpha_{3D}$\", \"virial_parameter_z\" : r\"$\\alpha_{z}$\",\n",
    "         \"galactic_radius\" : \"Galactic radius\", \"velocity_dispersion_3d\" : r\"$\\sigma_{v,3D}$\", \n",
    "         \"mean_density\" : r\"$\\rho_{gas}$\", \"sigma_gas\" : r\"$\\Sigma_{gas}$\", \"sigma_SFR\" : r\"$\\Sigma_{SFR}$\", \n",
    "         \"angular_velocity\" : r\"$\\Omega$\", \"SFR_efficiency\" : r\"$t_{ff}/t_{dep}$\", \"stars_mass\" : r\"$M_{stars}$\",\n",
    "         \"mach_number_z\" : \"Mach number z\", \"velocity_dispersion_z\" : r\"$\\sigma_{v,z}$\"}\n",
    "colors = cm.rainbow(np.linspace(0, 1, len(r)))\n",
    "labels = r\n",
    "\n",
    "def mixer(x, r, numbers):\n",
    "    X = []\n",
    "    for i in range(len(numbers)):\n",
    "        filename = \"sample_output/G-00\" + str(numbers[i]) + \"_\" + str(r) + \"pc_20.0_Myr_position.h5\"\n",
    "        hf = h5py.File(filename, 'r+')\n",
    "        regions_data = hf['regions_data']\n",
    "        x_axis = regions_data.get(x).value\n",
    "        X = np.concatenate((X, x_axis))\n",
    "    return X\n",
    "\n",
    "def K98(sigma_gas, A, n):\n",
    "    return A*sigma_gas**n\n",
    "    \n",
    "def bins_plot(x, y, n_bins, r, numbers, colors, labels, names, log_x=True, log_y=True, sigma_SFR_null=False,\n",
    "                     fields_null=True):\n",
    "    plt.figure(figsize=(8,6))\n",
    "    for radius in r:\n",
    "        X = mixer(x, radius, numbers)\n",
    "        Y = mixer(y, radius, numbers)\n",
    "        sigma_SFR = mixer('sigma_SFR', radius, numbers)\n",
    "        points = np.zeros(n_bins-1)\n",
    "        errors = np.zeros((n_bins-1,2))\n",
    "        q = []\n",
    "        if sigma_SFR_null:\n",
    "            if x != \"sigma_SFR\":\n",
    "                X = X[sigma_SFR != 0.0]\n",
    "                Y = Y[sigma_SFR != 0.0]\n",
    "            else:\n",
    "                Y = Y[sigma_SFR != 0.0]\n",
    "                X = X[sigma_SFR != 0.0]\n",
    "        if fields_null:\n",
    "            X = X[Y != 0.0]\n",
    "            Y = Y[Y != 0.0]\n",
    "            Y = Y[X != 0.0]\n",
    "            X = X[X != 0.0]\n",
    "        arg = X.argsort()\n",
    "        X = X[arg[::-1]]\n",
    "        Y = Y[arg[::-1]]\n",
    "        N = int(len(X)/n_bins)\n",
    "        x_axis = []\n",
    "        y_axis = []\n",
    "        for j in range(n_bins-1):\n",
    "            if j == n_bins-1:\n",
    "                bin_y = Y[N*j:-1]\n",
    "                bin_x = X[N*j:-1]\n",
    "            else:\n",
    "                bin_y = Y[N*j:N*(j+1)]\n",
    "                bin_x = X[N*j:N*(j+1)]\n",
    "            points[j] = np.percentile(bin_y, 50)\n",
    "            errors[j,0] = np.percentile(bin_y, 16) #- points[j]\n",
    "            errors[j,1] = np.percentile(bin_y, 84) #- points[j]\n",
    "            q.append(np.percentile(bin_x, 50))\n",
    "        plt.errorbar(q, points, yerr=np.transpose(errors), label=r'$r = $'+ str(radius) + ' pc')\n",
    "    if log_x and log_y:\n",
    "        plt.xlabel('$\\log_{10}$('+ names[x] + units[x] + ')', fontsize=14);\n",
    "        plt.ylabel('$\\log_{10}$('+ names[y] + units[y] + ')', fontsize=14);\n",
    "    elif log_x:\n",
    "        plt.xlabel('$\\log_{10}$('+ names[x] + units[x] + ')', fontsize=14);\n",
    "        plt.ylabel(names[y] + units[y], fontsize=14);\n",
    "    elif log_y:\n",
    "        plt.ylabel('$\\log_{10}$('+ names[y] + units[y] + ')', fontsize=14);\n",
    "        plt.xlabel(names[x] + units[x], fontsize=14);\n",
    "    else:\n",
    "        plt.xlabel(names[x] + units[x], fontsize=14);\n",
    "        plt.ylabel(names[y] + units[y], fontsize=14);\n",
    "    if log_x:\n",
    "        plt.xscale('log')\n",
    "    if log_y:\n",
    "        plt.yscale('log')\n",
    "    plt.legend()\n",
    "    plt.show()\n",
    "    \n",
    "def scatter_plot(x, y, r, numbers, colors, labels, names, log_x=True, log_y=True, sigma_SFR_null=False, \n",
    "                 fields_null=True):\n",
    "    plt.figure(figsize=(8,6))\n",
    "    for radius in r:\n",
    "        X = mixer(x, radius, numbers)\n",
    "        Y = mixer(y, radius, numbers)\n",
    "        sigma_SFR = mixer('sigma_SFR', radius, numbers)\n",
    "        if sigma_SFR_null:\n",
    "            if x != \"sigma_SFR\":\n",
    "                X = X[sigma_SFR != 0.0]\n",
    "                Y = Y[sigma_SFR != 0.0]\n",
    "            else:\n",
    "                Y = Y[sigma_SFR != 0.0]\n",
    "                X = X[sigma_SFR != 0.0]\n",
    "        if fields_null:\n",
    "            X = X[Y != 0.0]\n",
    "            Y = Y[Y != 0.0]\n",
    "            Y = Y[X != 0.0]\n",
    "            X = X[X != 0.0]\n",
    "        plt.scatter(X, Y, label=r'$r = $'+ str(radius) + ' pc', s=radius/50)\n",
    "        if radius == min(r):\n",
    "            plt.ylim(min(Y), max(Y))\n",
    "            plt.xlim(min(X), max(X))\n",
    "    if log_x and log_y:\n",
    "        plt.xlabel('$\\log_{10}$('+ names[x] + units[x] + ')', fontsize=14);\n",
    "        plt.ylabel('$\\log_{10}$('+ names[y] + units[y] + ')', fontsize=14);\n",
    "    elif log_x:\n",
    "        plt.xlabel('$\\log_{10}$('+ names[x] + units[x] + ')', fontsize=14);\n",
    "        plt.ylabel(names[y] + units[y], fontsize=14);\n",
    "    elif log_y:\n",
    "        plt.ylabel('$\\log_{10}$('+ names[y] + units[y] + ')', fontsize=14);\n",
    "        plt.xlabel(names[x] + units[x], fontsize=14);\n",
    "    else:\n",
    "        plt.xlabel(names[x] + units[x], fontsize=14);\n",
    "        plt.ylabel(names[y] + units[y], fontsize=14);\n",
    "    if log_x:\n",
    "        plt.xscale('log')\n",
    "    if log_y:\n",
    "        plt.yscale('log')\n",
    "    plt.legend()\n",
    "    plt.show()"
   ]
  },
  {
   "cell_type": "code",
   "execution_count": 3,
   "metadata": {},
   "outputs": [
    {
     "name": "stderr",
     "output_type": "stream",
     "text": [
      "/usr/local/lib/python3.6/dist-packages/h5py/_hl/dataset.py:313: H5pyDeprecationWarning: dataset.value has been deprecated. Use dataset[()] instead.\n",
      "  \"Use dataset[()] instead.\", H5pyDeprecationWarning)\n"
     ]
    },
    {
     "data": {
      "image/png": "[encoded data removed]",
      "text/plain": [
       "<Figure size 576x432 with 1 Axes>"
      ]
     },
     "metadata": {
      "needs_background": "light"
     },
     "output_type": "display_data"
    }
   ],
   "source": [
    "bins_plot(\"virial_parameter_3d\", \"SFR_efficiency\", 10, r, numbers, colors, labels, names, \n",
    "          log_x=True, log_y=True, sigma_SFR_null=False, fields_null=False)"
   ]
  },
  {
   "cell_type": "code",
   "execution_count": 6,
   "metadata": {},
   "outputs": [
    {
     "data": {
      "image/png": "[encoded data removed]",
      "text/plain": [
       "<Figure size 576x432 with 1 Axes>"
      ]
     },
     "metadata": {
      "needs_background": "light"
     },
     "output_type": "display_data"
    }
   ],
   "source": [
    "scatter_plot(\"sigma_gas\", \"sigma_SFR\", r, numbers, colors, labels, names, \n",
    "             log_x=True, log_y=True, sigma_SFR_null=True, fields_null=True)"
   ]
  },
  {
   "cell_type": "code",
   "execution_count": null,
   "metadata": {},
   "outputs": [],
   "source": []
  },
  {
   "cell_type": "code",
   "execution_count": null,
   "metadata": {},
   "outputs": [],
   "source": []
  }
 ],
 "metadata": {
  "kernelspec": {
   "display_name": "Python 3",
   "language": "python",
   "name": "python3"
  },
  "language_info": {
   "codemirror_mode": {
    "name": "ipython",
    "version": 3
   },
   "file_extension": ".py",
   "mimetype": "text/x-python",
   "name": "python",
   "nbconvert_exporter": "python",
   "pygments_lexer": "ipython3",
   "version": "3.6.7"
  }
 },
 "nbformat": 4,
 "nbformat_minor": 2
}
